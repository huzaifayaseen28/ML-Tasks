{
  "nbformat": 4,
  "nbformat_minor": 0,
  "metadata": {
    "colab": {
      "provenance": []
    },
    "kernelspec": {
      "name": "python3",
      "display_name": "Python 3"
    },
    "language_info": {
      "name": "python"
    }
  },
  "cells": [
    {
      "cell_type": "code",
      "execution_count": 1,
      "metadata": {
        "id": "8In7zZqojdnE"
      },
      "outputs": [],
      "source": [
        "# Install Google Generative AI SDK\n",
        "!pip install -q google-generativeai\n"
      ]
    },
    {
      "cell_type": "markdown",
      "source": [
        "Note: For security reasons, The Gemini API key is entered manually at \"your_api_key\" place.\n"
      ],
      "metadata": {
        "id": "iTdKz__bqTLD"
      }
    },
    {
      "cell_type": "code",
      "source": [
        "import os\n",
        "import google.generativeai as genai\n",
        "\n",
        "# Set your Gemini API Key\n",
        "os.environ[\"GOOGLE_API_KEY\"] = \"your_api_key\"\n",
        "\n",
        "# Configure Gemini\n",
        "genai.configure(api_key=os.environ[\"GOOGLE_API_KEY\"])\n"
      ],
      "metadata": {
        "id": "nf55VWJMj2dU"
      },
      "execution_count": 25,
      "outputs": []
    },
    {
      "cell_type": "code",
      "source": [
        "# Load Gemini model for chat\n",
        "model = genai.GenerativeModel(\"gemini-1.5-flash\")\n",
        "\n",
        "# Chat session to keep memory\n",
        "chat = model.start_chat(history=[])\n"
      ],
      "metadata": {
        "id": "_nOLrjhzj-Pj"
      },
      "execution_count": 26,
      "outputs": []
    },
    {
      "cell_type": "code",
      "source": [
        "# Prompt template for safe medical responses\n",
        "prompt_base = \"\"\"\n",
        "You are a friendly and helpful medical assistant. You can answer general health-related questions\n",
        "in a safe, informative, and empathetic manner. Never give life-critical advice or recommend medications.\n",
        "Always suggest seeing a professional for personal issues. Keep your answers short and clear.\n",
        "\"\"\"\n",
        "\n",
        "def ask_gemini(query):\n",
        "    full_prompt = prompt_base + f\"\\n\\nUser question: {query}\"\n",
        "    response = chat.send_message(full_prompt)\n",
        "    return response.text\n"
      ],
      "metadata": {
        "id": "h304GgBWkbQB"
      },
      "execution_count": 27,
      "outputs": []
    },
    {
      "cell_type": "code",
      "source": [
        "# Example general health questions\n",
        "example_questions = [\n",
        "    \"What causes a sore throat?\",\n",
        "    \"Is paracetamol safe for children?\",\n",
        "    \"How to reduce eye strain from screen usage?\",\n",
        "    \"Why do we get headaches?\"\n",
        "]\n",
        "\n",
        "# Print answers\n",
        "for q in example_questions:\n",
        "    print(f\"\\nQuestion: {q}\")\n",
        "    print(\"Answer:\", ask_gemini(q))\n"
      ],
      "metadata": {
        "colab": {
          "base_uri": "https://localhost:8080/",
          "height": 315
        },
        "id": "rVHYUgDFkgXb",
        "outputId": "d01a84f7-dffa-406e-f509-eb0be955df6f"
      },
      "execution_count": 28,
      "outputs": [
        {
          "output_type": "stream",
          "name": "stdout",
          "text": [
            "\n",
            "Question: What causes a sore throat?\n",
            "Answer: Sore throats are commonly caused by viral infections like the common cold or flu, but can also be due to bacterial infections, allergies, dry air, or even acid reflux.  If your sore throat is severe or lasts longer than a week, it's best to see a doctor.\n",
            "\n",
            "\n",
            "Question: Is paracetamol safe for children?\n",
            "Answer: Paracetamol can be safe for children, but only when given in the correct dosage for their age and weight.  Always follow the instructions on the packaging carefully, and if you have any concerns, consult a doctor or pharmacist before giving it to your child.\n",
            "\n",
            "\n",
            "Question: How to reduce eye strain from screen usage?\n",
            "Answer: Follow the 20-20-20 rule (every 20 minutes, look at something 20 feet away for 20 seconds).  Ensure good lighting, adjust screen brightness, and take regular breaks.  If you experience persistent eye strain, see an eye doctor.\n",
            "\n",
            "\n",
            "Question: Why do we get headaches?\n",
            "Answer: Headaches have many causes, from stress and dehydration to sinus infections and eye strain.  Severe or persistent headaches warrant a visit to a doctor to determine the underlying cause.\n",
            "\n"
          ]
        }
      ]
    },
    {
      "cell_type": "code",
      "source": [
        "# Interactive chatbot loop\n",
        "while True:\n",
        "    query = input(\"\\nYou: \")\n",
        "    if query.lower() in ['exit', 'quit']:\n",
        "        print(\"Medica: Take care! 👋\")\n",
        "        break\n",
        "    answer = ask_gemini(query)\n",
        "    print(\"Medica:\", answer)\n"
      ],
      "metadata": {
        "colab": {
          "base_uri": "https://localhost:8080/"
        },
        "id": "lMmjLIVFkv_8",
        "outputId": "4e127cdd-d692-486d-975f-dba6dce9f206"
      },
      "execution_count": 11,
      "outputs": [
        {
          "output_type": "stream",
          "name": "stdout",
          "text": [
            "\n",
            "You: exit\n",
            "Medica: Take care! 👋\n"
          ]
        }
      ]
    }
  ]
}